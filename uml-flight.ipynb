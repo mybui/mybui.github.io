{
 "cells": [
  {
   "cell_type": "markdown",
   "metadata": {},
   "source": [
    "### Construct an UML diagram for an airline reservation system according to the information given below. Mark the key attributes and use the notation taught in the course.\n",
    "\n",
    "### All flights are recognized by a flight number. No two flights with the same flight number are operated on the same day. However, the flight with the same flight number may have different departure and arrival times on different weekdays. Information of a flight includes information about its time table on various weekdays (we assume that the timetable does not change during the year), the airport of departure and the airport of arrival. Some flights are operated every weekday and some others may be operated just on one or two weekdays, for example. We assume that all flights are direct flights without any extra landings.\n",
    "\n",
    "### All flights are operated using an aircraft. Information about an aircraft type includes its name, model and the number of passenger seats. The same flight may be operated by using different aircraft types on various days of the year, like a smaller type on Dec 15th and a larger type on Dec 22nd when people are leaving for Christmas holidays. The database contains information about which aircraft type is used to operate a certain flight each day.\n",
    "\n",
    "### Information about customers contains they customer number (unique), name, title, e- mail address, phone number and the reservations each customer has. A certain customer may have several reservations, and a certain reservation may include several customers and several flights. However, all customers in the same reservation have the same flights. Information about a reservation contains information about the flights (including their dates) and the customers belonging to the reservation as well as a unique reservation number, a reservation date (usually different from the flight date) and status of the reservation (like preliminary or confirmed).\n",
    "\n",
    "### For the sake of simplicity, the following things are not covered in the UML diagram:\n",
    "- prices and payments\n",
    "- baggage\n",
    "- check-in"
   ]
  },
  {
   "cell_type": "markdown",
   "metadata": {},
   "source": [
    "#### UML diagram"
   ]
  },
  
  ![png](images/r3.png),
  
  {
   "cell_type": "markdown",
   "metadata": {},
   "source": [
    "#### Relations\n",
    "- Flight (<u>fNumber</u>, <u>fDate</u>, depAirport, weekday, depTime, arrTime)\n",
    "- Aircraft (<u>aName</u>, <u>model</u>, seat)\n",
    "- Customer (<u>cNumber</u>, cName, title, email, phone)\n",
    "- Reservation (<u>rNumber</u>, rDate, status)"
   ]
  },
  {
   "cell_type": "markdown",
   "metadata": {},
   "source": [
    "#### Associations\n",
    "- UsesAircraft (<u>fNumber</u>, <u>fDate</u>, <u>aName</u>, <u>model</u>)\n",
    "- FlightHasReservation (<u>fNumber</u>, <u>fDate</u>, <u>rNumber</u>)\n",
    "- CustomerHasReservation (<u>rNumber</u>, <u>cNumber</u>)"
   ]
  }
 ],
 "metadata": {
  "kernelspec": {
   "display_name": "Python 3",
   "language": "python",
   "name": "python3"
  },
  "language_info": {
   "codemirror_mode": {
    "name": "ipython",
    "version": 3
   },
   "file_extension": ".py",
   "mimetype": "text/x-python",
   "name": "python",
   "nbconvert_exporter": "python",
   "pygments_lexer": "ipython3",
   "version": "3.7.3"
  },
  "varInspector": {
   "cols": {
    "lenName": 16,
    "lenType": 16,
    "lenVar": 40
   },
   "kernels_config": {
    "python": {
     "delete_cmd_postfix": "",
     "delete_cmd_prefix": "del ",
     "library": "var_list.py",
     "varRefreshCmd": "print(var_dic_list())"
    },
    "r": {
     "delete_cmd_postfix": ") ",
     "delete_cmd_prefix": "rm(",
     "library": "var_list.r",
     "varRefreshCmd": "cat(var_dic_list()) "
    }
   },
   "types_to_exclude": [
    "module",
    "function",
    "builtin_function_or_method",
    "instance",
    "_Feature"
   ],
   "window_display": false
  }
 },
 "nbformat": 4,
 "nbformat_minor": 4
}
